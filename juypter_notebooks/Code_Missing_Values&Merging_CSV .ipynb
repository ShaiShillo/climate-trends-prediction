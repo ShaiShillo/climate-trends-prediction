{
 "cells": [
  {
   "cell_type": "code",
   "execution_count": 1,
   "id": "5ad3e7ed",
   "metadata": {},
   "outputs": [],
   "source": [
    "import pandas as pd\n",
    "import os"
   ]
  },
  {
   "cell_type": "code",
   "execution_count": 2,
   "id": "dc971f79",
   "metadata": {},
   "outputs": [],
   "source": [
    "def combine_csv_files(directory):\n",
    "    # Create an empty list to store the data frames\n",
    "    frames = []\n",
    "\n",
    "    # Loop through the CSV files in the directory and append them to the list of data frames\n",
    "    for filename in os.listdir(directory):\n",
    "        if filename.endswith(\".csv\"):\n",
    "            df = pd.read_csv(os.path.join(directory, filename))\n",
    "            \n",
    "            # Fill missing values in the 'Condition' column with the mode\n",
    "            df['Condition'] = df['Condition'].fillna(df['Condition'].mode()[0])\n",
    "\n",
    "            # Fill remaining missing values using forward fill (ffill&bfill)\n",
    "            df = df.fillna(method='ffill')\n",
    "            df = df.fillna(method='bfill')\n",
    "            \n",
    "            frames.append(df)\n",
    "\n",
    "    # Concatenate the data frames in the list into a single data frame\n",
    "    combined_df = pd.concat(frames)\n",
    "    \n",
    "    #sorting main globe df to sub df's inside main by Hemisphere numb.\n",
    "    df_sorted_combined =combined_df.sort_values(['Serialized Hemisphere','Location'], ascending=[True, True])\n",
    "\n",
    "    # Save the dataframe before removing duplicates\n",
    "    df_sorted_combined.to_csv(\"df_with_dup.csv\", index=False)\n",
    "\n",
    "    # Drop duplicates from the combined data frame\n",
    "    df_sorted_combined = df_sorted_combined.drop_duplicates()\n",
    "\n",
    "    # Export the combined data frame to a CSV file\n",
    "    df_sorted_combined.to_csv(\"sorted_combined_df.csv\", index=False)\n"
   ]
  },
  {
   "cell_type": "code",
   "execution_count": 3,
   "id": "488ce222",
   "metadata": {},
   "outputs": [],
   "source": [
    "# Set the directory where the CSV files are stored\n",
    "directory = r\"C:\\Users\\ShaiS\\Documents\\data_science_project_weather_forcast\\project_concut\\Weather_data\"\n",
    "combine_csv_files(directory)"
   ]
  }
 ],
 "metadata": {
  "kernelspec": {
   "display_name": "Python 3 (ipykernel)",
   "language": "python",
   "name": "python3"
  },
  "language_info": {
   "codemirror_mode": {
    "name": "ipython",
    "version": 3
   },
   "file_extension": ".py",
   "mimetype": "text/x-python",
   "name": "python",
   "nbconvert_exporter": "python",
   "pygments_lexer": "ipython3",
   "version": "3.9.13"
  }
 },
 "nbformat": 4,
 "nbformat_minor": 5
}
