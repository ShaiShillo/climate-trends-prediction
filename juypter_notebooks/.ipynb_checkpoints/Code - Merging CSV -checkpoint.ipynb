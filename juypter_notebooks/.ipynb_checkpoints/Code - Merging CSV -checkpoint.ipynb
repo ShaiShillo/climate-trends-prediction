{
 "cells": [
  {
   "cell_type": "code",
   "execution_count": null,
   "id": "dfa9c01f",
   "metadata": {},
   "outputs": [],
   "source": [
    "import pandas as pd\n",
    "import os\n",
    "\n",
    "\n",
    "def combine_csv_files(directory):\n",
    "    # Create an empty list to store the data frames\n",
    "    frames = []\n",
    "\n",
    "    # Loop through the CSV files in the directory and append them to the list of data frames\n",
    "    for filename in os.listdir(directory):\n",
    "        if filename.endswith(\".csv\"):\n",
    "            df = pd.read_csv(os.path.join(directory, filename))\n",
    "            frames.append(df)\n",
    "\n",
    "    # Concatenate the data frames in the list into a single data frame\n",
    "    combined_df = pd.concat(frames)\n",
    "\n",
    "    # Save the dataframe before removing duplicates\n",
    "    combined_df.to_csv(\"df_with_dup.csv\", index=False)\n",
    "\n",
    "    # Drop duplicates from the combined data frame\n",
    "    combined_df = combined_df.drop_duplicates()\n",
    "\n",
    "    # Export the combined data frame to a CSV file\n",
    "    combined_df.to_csv(\"combined_data.csv\", index=False)"
   ]
  },
  {
   "cell_type": "code",
   "execution_count": null,
   "id": "71da5629",
   "metadata": {},
   "outputs": [],
   "source": [
    "# Set the directory where the CSV files are stored\n",
    "directory = r\"C:\\Users\\ShaiS\\Documents\\data_science_project_weather_forcast\\project_concut\\Weather_data\"\n",
    "combine_csv_files(directory)"
   ]
  },
  {
   "cell_type": "code",
   "execution_count": null,
   "id": "d9aebf8a",
   "metadata": {},
   "outputs": [],
   "source": []
  },
  {
   "cell_type": "code",
   "execution_count": null,
   "id": "f2334854",
   "metadata": {},
   "outputs": [],
   "source": []
  },
  {
   "cell_type": "code",
   "execution_count": null,
   "id": "a1957ae6",
   "metadata": {},
   "outputs": [],
   "source": []
  },
  {
   "cell_type": "code",
   "execution_count": null,
   "id": "c7a3348b",
   "metadata": {},
   "outputs": [],
   "source": []
  },
  {
   "cell_type": "code",
   "execution_count": null,
   "id": "eb250ca4",
   "metadata": {},
   "outputs": [],
   "source": []
  }
 ],
 "metadata": {
  "kernelspec": {
   "display_name": "Python 3 (ipykernel)",
   "language": "python",
   "name": "python3"
  },
  "language_info": {
   "codemirror_mode": {
    "name": "ipython",
    "version": 3
   },
   "file_extension": ".py",
   "mimetype": "text/x-python",
   "name": "python",
   "nbconvert_exporter": "python",
   "pygments_lexer": "ipython3",
   "version": "3.9.13"
  }
 },
 "nbformat": 4,
 "nbformat_minor": 5
}
