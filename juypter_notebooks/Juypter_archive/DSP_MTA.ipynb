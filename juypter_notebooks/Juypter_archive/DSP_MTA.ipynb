{
 "cells": [
  {
   "cell_type": "code",
   "execution_count": null,
   "id": "094bb754",
   "metadata": {},
   "outputs": [],
   "source": [
    "import time\n",
    "import logging\n",
    "import concurrent.futures\n",
    "import pandas as pd\n",
    "from selenium import webdriver\n",
    "from selenium.webdriver.support.ui import Select\n",
    "from datetime import date, timedelta\n",
    "from selenium.webdriver.common.by import By\n",
    "from selenium.webdriver.support import expected_conditions as EC\n",
    "from selenium.webdriver.support.ui import WebDriverWait\n",
    "from bs4 import BeautifulSoup\n",
    "from datetime import datetime\n",
    "from concurrent.futures import ThreadPoolExecutor\n"
   ]
  },
  {
   "cell_type": "code",
   "execution_count": null,
   "id": "ddee3176",
   "metadata": {},
   "outputs": [],
   "source": [
    "def fahrenheit_to_celsius(temp_fahrenheit):\n",
    "    temp_celsius = (temp_fahrenheit - 32) * 5/9\n",
    "    return temp_celsius\n",
    "\n",
    "def get_weather_data(year, month, day, browser):\n",
    "    try:\n",
    "        browser = webdriver.Firefox()\n",
    "        browser.get('https://www.wunderground.com/history/daily/il/haifa/LLHA')\n",
    "        WebDriverWait(browser, 20).until(EC.presence_of_element_located((By.ID, 'yearSelection')))\n",
    "        \n",
    "        year_select = Select(browser.find_element(By.ID,'yearSelection'))\n",
    "        year_select.select_by_value(str((2023-year))+':'+' '+str(year))\n",
    "        month_select = Select(browser.find_element(By.ID,'monthSelection'))\n",
    "        month_select.select_by_value(str(month))\n",
    "        day_select = Select(browser.find_element(By.ID,'daySelection'))\n",
    "        day_select.select_by_value(str((day-1))+':'+' '+str(day))\n",
    "\n",
    "        browser.find_element(By.ID, 'dateSubmit').click()\n",
    "        WebDriverWait(browser, 20).until(EC.presence_of_element_located((By.ID, 'history-ob')))\n",
    "        \n",
    "        soup = BeautifulSoup(browser.page_source, 'html.parser')\n",
    "        data_rows = soup.find_all('tr', {'class': 'no-metars'})\n",
    "        date_data = {}\n",
    "        for row in data_rows:\n",
    "            time_col = row.find('td', {'class': 'indent'})\n",
    "            time = time_col.get_text()\n",
    "            temp_col = row.find_all('td')[1]\n",
    "            temp_fahrenheit = temp_col.get_text()\n",
    "            temp_celsius = fahrenheit_to_celsius(int(temp_fahrenheit))\n",
    "            date_data[time] = temp_celsius\n",
    "    finally:\n",
    "        browser.quit()\n",
    "    return date_data"
   ]
  },
  {
   "cell_type": "code",
   "execution_count": null,
   "id": "3152f58b",
   "metadata": {},
   "outputs": [],
   "source": [
    "def get_weather_data_for_dates7(current_date, end_date, browser, num_threads=2):\n",
    "    weather_data = {}\n",
    "    #current_date = datetime(start_year, start_month, start_day)\n",
    "    #end_date = datetime(end_year, end_month, end_day)\n",
    "    problematic_urls = []\n",
    "\n",
    "    dates = []\n",
    "    while current_date <= end_date:\n",
    "        dates.append(current_date)\n",
    "        current_date += timedelta(days=1)\n",
    "\n",
    "    with ThreadPoolExecutor(max_workers=num_threads) as executor:\n",
    "        results = [executor.submit(get_weather_data, date.year, date.month, date.day, browser) for date in dates]\n",
    "\n",
    "        for result in results:\n",
    "            date_data = result.result()\n",
    "            weather_data[date_data[0]] = date_data[1]\n",
    "\n",
    "    return weather_data, problematic_urls\n",
    "\n",
    "\n",
    "  "
   ]
  },
  {
   "cell_type": "code",
   "execution_count": null,
   "id": "e288bfff",
   "metadata": {},
   "outputs": [],
   "source": [
    "def run_in_multiple_threads(current_date, end_date):\n",
    "    with concurrent.futures.ProcessPoolExecutor() as executor:\n",
    "        # Create a list of arguments to pass to the function\n",
    "        args_list = [(current_date, end_date, webdriver.Firefox()) for _ in range(2)]\n",
    "        # Use the map function to run the function in multiple processes\n",
    "        results = executor.map(get_weather_data_for_dates7, *args_list)\n",
    "        # Extract the results from the map object\n",
    "        weather_data, problematic_urls = zip(*results)\n",
    "        # Flatten the list of weather data\n",
    "        weather_data = [item for sublist in weather_data for item in sublist]\n",
    "        # Flatten the list of problematic URLs\n",
    "        problematic_urls = [item for sublist in problematic_urls for item in sublist]\n",
    "    return weather_data, problematic_urls\n"
   ]
  },
  {
   "cell_type": "code",
   "execution_count": null,
   "id": "ee72d91d",
   "metadata": {},
   "outputs": [],
   "source": [
    "start_year = 2020\n",
    "start_month = 1\n",
    "start_day = 1\n",
    "end_year = 2020\n",
    "end_month = 12\n",
    "end_day = 31\n",
    "current_date = datetime(start_year, start_month, start_day)\n",
    "end_date = datetime(end_year, end_month, end_day)\n",
    "weather_data, problemtaic_urls = run_in_multiple_threads(current_date, end_date)\n",
    "\n",
    "weather_data_df = pd.DataFrame.from_dict(weather_data).transpose()\n",
    "weather_data_df = weather_data_df.astype({'Year': int, 'Month': int, 'Day': int})\n",
    "\t\n",
    "#saving collected data:\n",
    "weather_data_df.to_csv(\"weather_data.csv\", index=False)"
   ]
  },
  {
   "cell_type": "code",
   "execution_count": null,
   "id": "427b2b43",
   "metadata": {},
   "outputs": [],
   "source": []
  }
 ],
 "metadata": {
  "kernelspec": {
   "display_name": "Python 3 (ipykernel)",
   "language": "python",
   "name": "python3"
  },
  "language_info": {
   "codemirror_mode": {
    "name": "ipython",
    "version": 3
   },
   "file_extension": ".py",
   "mimetype": "text/x-python",
   "name": "python",
   "nbconvert_exporter": "python",
   "pygments_lexer": "ipython3",
   "version": "3.9.13"
  }
 },
 "nbformat": 4,
 "nbformat_minor": 5
}
