{
 "cells": [
  {
   "cell_type": "code",
   "execution_count": 1,
   "id": "beccb7af",
   "metadata": {},
   "outputs": [],
   "source": [
    "import time\n",
    "import logging\n",
    "import concurrent.futures\n",
    "import pandas as pd\n",
    "from selenium import webdriver\n",
    "from selenium.webdriver.support.ui import Select\n",
    "from datetime import date, timedelta\n",
    "from selenium.webdriver.common.by import By\n",
    "from selenium.webdriver.support import expected_conditions as EC\n",
    "from selenium.webdriver.support.ui import WebDriverWait\n",
    "from bs4 import BeautifulSoup\n",
    "from datetime import datetime\n",
    "from concurrent.futures import ThreadPoolExecutor"
   ]
  },
  {
   "cell_type": "code",
   "execution_count": 2,
   "id": "3f23b74d",
   "metadata": {},
   "outputs": [],
   "source": [
    "def get_weather_data_for_dates7(current_date, end_date, num_threads=2):\n",
    "    weather_data = {}\n",
    "    problematic_urls = []\n",
    "    #current_date = datetime(start_year, start_month, start_day)\n",
    "    #end_date = datetime(end_year, end_month, end_day)\n",
    "    dates = []\n",
    "    while current_date <= end_date:\n",
    "        dates.append(current_date)\n",
    "        current_date += timedelta(days=1)\n",
    "\n",
    "    with ThreadPoolExecutor(max_workers=num_threads) as executor:\n",
    "        results = [executor.submit(get_weather_data, date.year, date.month, date.day) for date in dates]\n",
    "\n",
    "        for result in results:\n",
    "            date_data = result.result()\n",
    "            weather_data[date_data[0]] = date_data[1]\n",
    "\n",
    "    return weather_data, problematic_urls"
   ]
  },
  {
   "cell_type": "code",
   "execution_count": null,
   "id": "bd26be46",
   "metadata": {},
   "outputs": [],
   "source": [
    "def get_weather_data(year, month, day):\n",
    "    try:\n",
    "        browser = webdriver.Firefox()\n",
    "        browser.get('https://www.wunderground.com/history/daily/il/haifa/LLHA')\n",
    "        WebDriverWait(browser, 20).until(EC.presence_of_element_located((By.ID, 'yearSelection')))\n",
    "        \n",
    "        year_select = Select(browser.find_element(By.ID,'yearSelection'))\n",
    "        year_select.select_by_value(str((2023-year))+':'+' '+str(year))\n",
    "        month_select = Select(browser.find_element(By.ID,'monthSelection'))\n",
    "        month_select.select_by_value(str(month))\n",
    "        day_select = Select(browser.find_element(By.ID,'daySelection'))\n",
    "        day_select.select_by_value(str((day-1))+':'+' '+str(day))\n",
    "\n",
    "        browser.find_element(By.ID, 'dateSubmit').click()\n",
    "        WebDriverWait(browser, 20).until(EC.presence_of_element_located((By.ID, 'history-ob')))\n",
    "        \n",
    "        soup = BeautifulSoup(browser.page_source, 'html.parser')\n",
    "        data_rows = soup.find_all('tr', {'class': 'no-metars'})\n",
    "        date_data = {}"
   ]
  }
 ],
 "metadata": {
  "kernelspec": {
   "display_name": "Python 3 (ipykernel)",
   "language": "python",
   "name": "python3"
  },
  "language_info": {
   "codemirror_mode": {
    "name": "ipython",
    "version": 3
   },
   "file_extension": ".py",
   "mimetype": "text/x-python",
   "name": "python",
   "nbconvert_exporter": "python",
   "pygments_lexer": "ipython3",
   "version": "3.9.13"
  }
 },
 "nbformat": 4,
 "nbformat_minor": 5
}
