version https://git-lfs.github.com/spec/v1
oid sha256:48fddd01bbe10942427e58fc1ad022219bfad0c5e0362e066e1be8f4b8c71d9c
size 69143736
